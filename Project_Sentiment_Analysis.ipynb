{
  "nbformat": 4,
  "nbformat_minor": 0,
  "metadata": {
    "colab": {
      "name": "Project Sentiment Analysis.ipynb",
      "provenance": []
    },
    "kernelspec": {
      "name": "python3",
      "display_name": "Python 3"
    }
  },
  "cells": [
    {
      "cell_type": "code",
      "metadata": {
        "id": "uoEkfBOXJ_IX",
        "outputId": "63234b59-5b4a-4391-c61d-d598ddc40721",
        "colab": {
          "base_uri": "https://localhost:8080/",
          "height": 34
        }
      },
      "source": [
        "%%writefile app1.py\n",
        "import streamlit as st\n",
        "import pandas as pd\n",
        "import numpy as np\n",
        "from sklearn.pipeline import Pipeline\n",
        "from sklearn.feature_extraction.text import TfidfVectorizer\n",
        "from sklearn.naive_bayes import MultinomialNB\n",
        "from sklearn.model_selection import train_test_split\n",
        "\n",
        "df = pd.read_table('/content/drive/My Drive/smartknower/Machine learning/Sentiment Analysis project/Restaurant_Reviews.tsv')\n",
        "tfidf = TfidfVectorizer(max_features=1500)\n",
        "x = df.iloc[:,0].values # Message column as input\n",
        "y = df.iloc[:,1].values # Label column as output\n",
        "\n",
        "\n",
        "x_train,x_test,y_train,y_test = train_test_split(x,y,random_state= 0)\n",
        "\n",
        "text_model = Pipeline([('tfidf',TfidfVectorizer()),('model',MultinomialNB())])\n",
        "text_model.fit(x,y)\n",
        "\n",
        "\n",
        "st.title(\"Restarunt Review Classifier\")\n",
        "st.subheader('TFIFD Vectorizer')\n",
        "st.write('This project is based on Naive Bayes Classifier')\n",
        "message = st.text_area(\"Enter Text\",\"Type Here ..\")\n",
        "op = text_model.predict([message])\n",
        "if st.button(\"Predict\"):\n",
        "  st.title(op)\n"
      ],
      "execution_count": 14,
      "outputs": [
        {
          "output_type": "stream",
          "text": [
            "Overwriting app1.py\n"
          ],
          "name": "stdout"
        }
      ]
    },
    {
      "cell_type": "code",
      "metadata": {
        "id": "VMlBNQtwOXqw"
      },
      "source": [
        "!pip install streamlit"
      ],
      "execution_count": null,
      "outputs": []
    },
    {
      "cell_type": "code",
      "metadata": {
        "id": "09GqfCuDOZUV",
        "outputId": "fe9355c1-06af-4616-a46b-a59332daa353",
        "colab": {
          "base_uri": "https://localhost:8080/",
          "height": 884
        }
      },
      "source": [
        "!streamlit run app1.py"
      ],
      "execution_count": 5,
      "outputs": [
        {
          "output_type": "stream",
          "text": [
            "\u001b[0m\n",
            "\u001b[34m\u001b[1m  You can now view your Streamlit app in your browser.\u001b[0m\n",
            "\u001b[0m\n",
            "\u001b[34m  Network URL: \u001b[0m\u001b[1mhttp://172.28.0.2:8501\u001b[0m\n",
            "\u001b[34m  External URL: \u001b[0m\u001b[1mhttp://34.66.63.160:8501\u001b[0m\n",
            "\u001b[0m\n",
            "\u001b[34m  Stopping...\u001b[0m\n",
            "Traceback (most recent call last):\n",
            "  File \"/usr/local/bin/streamlit\", line 8, in <module>\n",
            "    sys.exit(main())\n",
            "  File \"/usr/local/lib/python3.6/dist-packages/click/core.py\", line 829, in __call__\n",
            "    return self.main(*args, **kwargs)\n",
            "  File \"/usr/local/lib/python3.6/dist-packages/click/core.py\", line 782, in main\n",
            "    rv = self.invoke(ctx)\n",
            "  File \"/usr/local/lib/python3.6/dist-packages/click/core.py\", line 1259, in invoke\n",
            "    return _process_result(sub_ctx.command.invoke(sub_ctx))\n",
            "  File \"/usr/local/lib/python3.6/dist-packages/click/core.py\", line 1066, in invoke\n",
            "    return ctx.invoke(self.callback, **ctx.params)\n",
            "  File \"/usr/local/lib/python3.6/dist-packages/click/core.py\", line 610, in invoke\n",
            "    return callback(*args, **kwargs)\n",
            "  File \"/usr/local/lib/python3.6/dist-packages/streamlit/cli.py\", line 233, in main_run\n",
            "    _main_run(target, args)\n",
            "  File \"/usr/local/lib/python3.6/dist-packages/streamlit/cli.py\", line 261, in _main_run\n",
            "    bootstrap.run(file, command_line, args)\n",
            "  File \"/usr/local/lib/python3.6/dist-packages/streamlit/bootstrap.py\", line 262, in run\n",
            "    ioloop.start()\n",
            "  File \"/usr/local/lib/python3.6/dist-packages/tornado/platform/asyncio.py\", line 132, in start\n",
            "    self.asyncio_loop.run_forever()\n",
            "  File \"/usr/lib/python3.6/asyncio/base_events.py\", line 438, in run_forever\n",
            "    self._run_once()\n",
            "  File \"/usr/lib/python3.6/asyncio/base_events.py\", line 1415, in _run_once\n",
            "    event_list = self._selector.select(timeout)\n",
            "  File \"/usr/lib/python3.6/selectors.py\", line 445, in select\n",
            "    fd_event_list = self._epoll.poll(timeout, max_ev)\n",
            "  File \"/usr/local/lib/python3.6/dist-packages/streamlit/bootstrap.py\", line 44, in signal_handler\n",
            "    Server.get_current().stop()\n",
            "  File \"/usr/local/lib/python3.6/dist-packages/streamlit/server/server.py\", line 536, in stop\n",
            "    click.secho(\"  Stopping...\", fg=\"blue\")\n",
            "  File \"/usr/local/lib/python3.6/dist-packages/click/termui.py\", line 548, in secho\n",
            "    return echo(message, file=file, nl=nl, err=err, color=color)\n",
            "  File \"/usr/local/lib/python3.6/dist-packages/click/utils.py\", line 272, in echo\n",
            "    file.write(message)\n",
            "  File \"/usr/local/lib/python3.6/dist-packages/streamlit/bootstrap.py\", line 44, in signal_handler\n",
            "    Server.get_current().stop()\n",
            "  File \"/usr/local/lib/python3.6/dist-packages/streamlit/server/server.py\", line 536, in stop\n",
            "    click.secho(\"  Stopping...\", fg=\"blue\")\n",
            "  File \"/usr/local/lib/python3.6/dist-packages/click/termui.py\", line 548, in secho\n",
            "    return echo(message, file=file, nl=nl, err=err, color=color)\n",
            "  File \"/usr/local/lib/python3.6/dist-packages/click/utils.py\", line 272, in echo\n",
            "    file.write(message)\n",
            "RuntimeError: reentrant call inside <_io.BufferedWriter name='<stdout>'>\n"
          ],
          "name": "stdout"
        }
      ]
    },
    {
      "cell_type": "code",
      "metadata": {
        "id": "lPnZvAeJOf8J",
        "outputId": "5fbe21ca-0a35-4774-ac04-944c44fb2c62",
        "colab": {
          "base_uri": "https://localhost:8080/",
          "height": 204
        }
      },
      "source": [
        "!pip install pyngrok"
      ],
      "execution_count": 3,
      "outputs": [
        {
          "output_type": "stream",
          "text": [
            "Collecting pyngrok\n",
            "  Downloading https://files.pythonhosted.org/packages/87/93/09a09c5034fcef7cc956107a36beb4ba47924afeb70bea3626a3a4b76b77/pyngrok-4.1.13.tar.gz\n",
            "Requirement already satisfied: future in /usr/local/lib/python3.6/dist-packages (from pyngrok) (0.16.0)\n",
            "Requirement already satisfied: PyYAML in /usr/local/lib/python3.6/dist-packages (from pyngrok) (3.13)\n",
            "Building wheels for collected packages: pyngrok\n",
            "  Building wheel for pyngrok (setup.py) ... \u001b[?25l\u001b[?25hdone\n",
            "  Created wheel for pyngrok: filename=pyngrok-4.1.13-cp36-none-any.whl size=17053 sha256=e2fb3a09cedeff6d9d72a4ccacbb6ac3f50cb5c7a65e49155069cb977483bdc8\n",
            "  Stored in directory: /root/.cache/pip/wheels/96/02/88/faeae1a755924349309500c9a1d40d5d67df3dc4b4e0d2f5bd\n",
            "Successfully built pyngrok\n",
            "Installing collected packages: pyngrok\n",
            "Successfully installed pyngrok-4.1.13\n"
          ],
          "name": "stdout"
        }
      ]
    },
    {
      "cell_type": "code",
      "metadata": {
        "id": "a2HxLqImPkd1",
        "outputId": "5b18206b-d076-42d7-edb7-7d95bda6e6a2",
        "colab": {
          "base_uri": "https://localhost:8080/",
          "height": 35
        }
      },
      "source": [
        "from pyngrok import ngrok\n",
        "url = ngrok.connect(port='8501')\n",
        "url"
      ],
      "execution_count": 4,
      "outputs": [
        {
          "output_type": "stream",
          "text": [
            ""
          ],
          "name": "stdout"
        },
        {
          "output_type": "execute_result",
          "data": {
            "application/vnd.google.colaboratory.intrinsic+json": {
              "type": "string"
            },
            "text/plain": [
              "'http://f6661c6d8669.ngrok.io'"
            ]
          },
          "metadata": {
            "tags": []
          },
          "execution_count": 4
        }
      ]
    },
    {
      "cell_type": "code",
      "metadata": {
        "id": "D4uKAjxwQAn3"
      },
      "source": [
        ""
      ],
      "execution_count": null,
      "outputs": []
    }
  ]
}